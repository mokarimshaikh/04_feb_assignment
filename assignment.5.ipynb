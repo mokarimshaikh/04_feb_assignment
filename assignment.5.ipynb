{
 "cells": [
  {
   "cell_type": "code",
   "execution_count": 3,
   "id": "89390b03-d1df-460b-8a52-9a53dfb8cb34",
   "metadata": {},
   "outputs": [],
   "source": [
    "# Q.1\n"
   ]
  },
  {
   "cell_type": "code",
   "execution_count": 2,
   "id": "4989241d-e792-43ad-b8eb-69ea92109830",
   "metadata": {},
   "outputs": [
    {
     "name": "stdout",
     "output_type": "stream",
     "text": [
      "Virat Kohli : 24936\n",
      "Jack Kallis : 25534\n",
      "Ricky Ponting : 27483\n",
      "Sachin Tendulkar : 34357\n"
     ]
    }
   ],
   "source": [
    "data = [('Sachin Tendulkar', 34357), ('Ricky Ponting', 27483), ('Jack Kallis', 25534), ('Virat Kohli', 24936)]\n",
    "shorting_list=sorted(data,key=lambda x : x[1])\n",
    "\n",
    "for player , score in shorting_list :\n",
    "    print( player , \":\" , score)"
   ]
  },
  {
   "cell_type": "code",
   "execution_count": 4,
   "id": "43009c38-0a88-42b6-972c-c7292d514652",
   "metadata": {},
   "outputs": [],
   "source": [
    "# Q .2\n"
   ]
  },
  {
   "cell_type": "code",
   "execution_count": 5,
   "id": "a79ef44c-92bf-49b0-9dd5-ffaa769577d9",
   "metadata": {},
   "outputs": [
    {
     "data": {
      "text/plain": [
       "[1, 4, 9, 16, 25, 36, 49, 64, 81, 100]"
      ]
     },
     "execution_count": 5,
     "metadata": {},
     "output_type": "execute_result"
    }
   ],
   "source": [
    "l = [1,2,3,4,5,6,7,8,9,10]\n",
    "list(map(lambda x : x**2 , l))"
   ]
  },
  {
   "cell_type": "code",
   "execution_count": 6,
   "id": "7bfd40ab-23e0-4a20-802d-bdd7322cccf5",
   "metadata": {},
   "outputs": [],
   "source": [
    "# Q.3\n"
   ]
  },
  {
   "cell_type": "code",
   "execution_count": 23,
   "id": "d6ef38d5-59f6-41ce-b652-8aa0ae12dfde",
   "metadata": {},
   "outputs": [
    {
     "name": "stdout",
     "output_type": "stream",
     "text": [
      "('1', '2', '3', '4', '5', '6', '7', '8', '9', '10')\n"
     ]
    }
   ],
   "source": [
    "l= [1,2,3,4,5,6,7,8,9,10]\n",
    "l2=tuple(map(lambda x : str(x) , l))\n",
    "\n",
    "print(l2)"
   ]
  },
  {
   "cell_type": "code",
   "execution_count": 34,
   "id": "efc14025-2322-4d67-a208-90bc3979b574",
   "metadata": {},
   "outputs": [],
   "source": [
    "# Q .4\n"
   ]
  },
  {
   "cell_type": "code",
   "execution_count": 24,
   "id": "d756742d-a59e-487c-b3f0-ef72cd2f9f76",
   "metadata": {},
   "outputs": [],
   "source": [
    "from functools import reduce"
   ]
  },
  {
   "cell_type": "code",
   "execution_count": 31,
   "id": "edacfee0-008a-4ba8-91c1-62a24db31d47",
   "metadata": {},
   "outputs": [],
   "source": [
    "def multiplhy(x , y) :\n",
    "    return x * y"
   ]
  },
  {
   "cell_type": "code",
   "execution_count": 32,
   "id": "31870838-0232-487f-9f90-349a610a814d",
   "metadata": {},
   "outputs": [],
   "source": [
    "l= list(range(1,26))"
   ]
  },
  {
   "cell_type": "code",
   "execution_count": 33,
   "id": "498826c1-cc77-4385-9289-32f5a8163005",
   "metadata": {},
   "outputs": [
    {
     "data": {
      "text/plain": [
       "15511210043330985984000000"
      ]
     },
     "execution_count": 33,
     "metadata": {},
     "output_type": "execute_result"
    }
   ],
   "source": [
    "reduce(multiplhy , l)"
   ]
  },
  {
   "cell_type": "code",
   "execution_count": 37,
   "id": "b89d94b9-e95f-42ba-812c-781e254e737c",
   "metadata": {},
   "outputs": [],
   "source": [
    "# Q .6\n"
   ]
  },
  {
   "cell_type": "code",
   "execution_count": 36,
   "id": "62c58427-a6b4-457c-ae99-d9a8196e552e",
   "metadata": {},
   "outputs": [
    {
     "data": {
      "text/plain": [
       "[2, 3, 6, 9, 27, 60, 90, 120, 46]"
      ]
     },
     "execution_count": 36,
     "metadata": {},
     "output_type": "execute_result"
    }
   ],
   "source": [
    "l=[2, 3, 6, 9, 27, 60, 90, 120, 55, 46]\n",
    "list(filter(lambda x : x % 2 == 0 or x % 3 == 0 , l))"
   ]
  },
  {
   "cell_type": "code",
   "execution_count": 38,
   "id": "dfaa07c2-60ef-4c61-b478-a2e84a8e5216",
   "metadata": {},
   "outputs": [],
   "source": [
    " # Q.7\n",
    "    "
   ]
  },
  {
   "cell_type": "code",
   "execution_count": 39,
   "id": "b4565a13-1639-41c3-b75d-9254d06d78d2",
   "metadata": {},
   "outputs": [
    {
     "data": {
      "text/plain": [
       "['php', 'aba', 'radar', 'level']"
      ]
     },
     "execution_count": 39,
     "metadata": {},
     "output_type": "execute_result"
    }
   ],
   "source": [
    "given_list= ['python', 'php', 'aba', 'radar', 'level']\n",
    "list(filter(lambda x : x== x[::-1] , given_list))"
   ]
  },
  {
   "cell_type": "code",
   "execution_count": null,
   "id": "c4fb8372-a5d9-420b-91d9-221eb9f69c01",
   "metadata": {},
   "outputs": [],
   "source": []
  }
 ],
 "metadata": {
  "kernelspec": {
   "display_name": "Python 3 (ipykernel)",
   "language": "python",
   "name": "python3"
  },
  "language_info": {
   "codemirror_mode": {
    "name": "ipython",
    "version": 3
   },
   "file_extension": ".py",
   "mimetype": "text/x-python",
   "name": "python",
   "nbconvert_exporter": "python",
   "pygments_lexer": "ipython3",
   "version": "3.10.8"
  }
 },
 "nbformat": 4,
 "nbformat_minor": 5
}
